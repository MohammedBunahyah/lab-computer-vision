{
 "cells": [
  {
   "cell_type": "markdown",
   "metadata": {
    "id": "ZaLHjbgl4sdC"
   },
   "source": [
    "# Computer Vision (Image operators and filters)\n",
    "\n",
    "By the end of this lab, you will get hands on experience working with:\n",
    "\n",
    "*   Image Handling\n",
    "*   Image Manipulation\n",
    "*   Histogram and Histogram Equalization\n",
    "*   Basic filtering techniques\n",
    "\n",
    "<!-- ### **Remember this is a graded exercise.** -->\n",
    "\n",
    "**Reminder**:\n",
    "\n",
    "*   For every plot, make sure you provide appropriate titles, axis labels, legends, wherever applicable.\n",
    "*   Add sufficient comments and explanations wherever necessary.\n",
    "\n",
    "---\n"
   ]
  },
  {
   "cell_type": "code",
   "execution_count": null,
   "metadata": {
    "id": "BuqI1scQ4imT"
   },
   "outputs": [],
   "source": [
    "import numpy as np\n",
    "import matplotlib.pyplot as plt\n",
    "from skimage import data, exposure, filters, io, morphology, color, util\n",
    "from skimage.morphology import disk, square, diamond, star\n"
   ]
  },
  {
   "cell_type": "markdown",
   "metadata": {
    "id": "OV5XxAg85xJ_"
   },
   "source": [
    "# Channels and color spaces\n",
    "\n",
    "### **Exercise: Image Creation and Color Manipulation**\n",
    "\n",
    "*   Create a 100 x 100 image for each of the below visualization\n",
    "\n",
    "\n",
    "*   Visualize the created images in a 1 x 3 subplot using matplotlib.\n"
   ]
  },
  {
   "cell_type": "code",
   "execution_count": null,
   "metadata": {
    "id": "SvftuOlr5woU"
   },
   "outputs": [],
   "source": [
    "# Create 100x100 images with different values\n",
    "image1 = np.ones((100, 100))  # White image\n",
    "image2 = np.zeros((100, 100))  # Black image\n",
    "image3 = np.full((100, 100), 0.5)  # Gray image\n",
    "\n",
    "# Display images\n",
    "fig, axes = plt.subplots(1, 3, figsize=(12, 4))\n",
    "titles = [\"White Image\", \"Black Image\", \"Gray Image\"]\n",
    "for ax, img, title in zip(axes, [image1, image2, image3], titles):\n",
    "    ax.imshow(img, cmap=\"gray\")\n",
    "    ax.set_title(title)\n",
    "    ax.axis(\"off\")\n",
    "plt.show()\n"
   ]
  },
  {
   "cell_type": "markdown",
   "metadata": {
    "id": "kJ52BL-WrWV-"
   },
   "source": [
    "*   Use the above three images to create the following image\n",
    "\n",
    "*Hint: Remember channels and color spaces*"
   ]
  },
  {
   "cell_type": "code",
   "execution_count": null,
   "metadata": {
    "id": "VjFNuJ4Rraiw"
   },
   "outputs": [],
   "source": [
    "# Merge three grayscale images into an RGB image\n",
    "merged_image = np.dstack((image1, image2, image3))\n",
    "\n",
    "# Show merged image\n",
    "plt.imshow(merged_image)\n",
    "plt.title(\"Merged Image\")\n",
    "plt.axis(\"off\")\n",
    "plt.show()\n"
   ]
  },
  {
   "cell_type": "markdown",
   "metadata": {
    "id": "e3jnTbnqIkN_"
   },
   "source": [
    "### **Exercise: Color Manipulation**\n",
    "\n",
    "*   Read the image 'sillas.jpg' from the images folder\n",
    "\n",
    "\n",
    "*   Extract individual channels and plot them using matplotlib subplot.\n",
    "\n"
   ]
  },
  {
   "cell_type": "code",
   "execution_count": null,
   "metadata": {
    "id": "6T8NHYIAJ7fr"
   },
   "outputs": [],
   "source": [
    "# Read image\n",
    "image = io.imread(\"images/sillas.jpg\")\n",
    "\n",
    "# Extract RGB channels\n",
    "red_channel = image[:, :, 0]\n",
    "green_channel = image[:, :, 1]\n",
    "blue_channel = image[:, :, 2]\n",
    "\n",
    "# Display channels\n",
    "fig, axes = plt.subplots(1, 4, figsize=(16, 4))\n",
    "axes[0].imshow(image)\n",
    "axes[0].set_title(\"Original Image\")\n",
    "axes[0].axis(\"off\")\n",
    "\n",
    "titles = [\"Red Channel\", \"Green Channel\", \"Blue Channel\"]\n",
    "channels = [red_channel, green_channel, blue_channel]\n",
    "\n",
    "for i in range(3):\n",
    "    axes[i+1].imshow(channels[i], cmap=\"gray\")\n",
    "    axes[i+1].set_title(titles[i])\n",
    "    axes[i+1].axis(\"off\")\n",
    "\n",
    "plt.show()\n"
   ]
  },
  {
   "cell_type": "markdown",
   "metadata": {
    "id": "v2KsIGB8shvy"
   },
   "source": [
    "*   The color **red** looks too bright for the eyes. Isn't it?? Lets change the color and see how it appears.\n",
    "    *    Create a new image where everything that is **'red' is changed to 'blue'**.\n",
    "*   Visualize the original image and the created image using matplotlib subplot."
   ]
  },
  {
   "cell_type": "code",
   "execution_count": null,
   "metadata": {
    "id": "111KEZossmpl"
   },
   "outputs": [],
   "source": [
    "# Swap red and blue channels\n",
    "image_swapped = image.copy()\n",
    "image_swapped[:, :, 0], image_swapped[:, :, 2] = image_swapped[:, :, 2], image_swapped[:, :, 0]\n",
    "\n",
    "# Display images\n",
    "fig, axes = plt.subplots(1, 2, figsize=(10, 5))\n",
    "axes[0].imshow(image)\n",
    "axes[0].set_title(\"Original Image\")\n",
    "axes[0].axis(\"off\")\n",
    "\n",
    "axes[1].imshow(image_swapped)\n",
    "axes[1].set_title(\"Red Changed to Blue\")\n",
    "axes[1].axis(\"off\")\n",
    "\n",
    "plt.show()\n"
   ]
  },
  {
   "cell_type": "markdown",
   "metadata": {
    "id": "I7ILNRvsJ9fm"
   },
   "source": [
    "# Image Manipulation\n",
    "\n",
    "### **Exercise: Image Operators**\n",
    "\n",
    "*   You can find images 'model.png' and 'coat.png' in the images folder (First two images of the below visualization). Your task is to create an image from the given two images such a way that the model is wearing the coat (Third image in the visualization).\n",
    "*   You can also find different textures in the images folder. Your task is to change the coat texture to any one of the given textures.\n",
    "*   Visualize the images similar to the given visualization.\n",
    "\n",
    "*Hint: Think masks!!!*\n",
    "\n"
   ]
  },
  {
   "cell_type": "code",
   "execution_count": null,
   "metadata": {
    "id": "GVfOvZnCH4pK"
   },
   "outputs": [],
   "source": [
    "import numpy as np\n",
    "import matplotlib.pyplot as plt\n",
    "from skimage import io, color\n",
    "from skimage.transform import resize\n",
    "\n",
    "# Load images\n",
    "model = io.imread(\"images/model.png\")\n",
    "coat = io.imread(\"images/coat.png\")\n",
    "\n",
    "# Convert grayscale images to RGB if necessary\n",
    "if len(coat.shape) == 2:\n",
    "    coat = color.gray2rgb(coat)\n",
    "if len(model.shape) == 2:\n",
    "    model = color.gray2rgb(model)\n",
    "\n",
    "# If images have 4 channels (RGBA), remove the Alpha channel\n",
    "if coat.shape[-1] == 4:\n",
    "    coat = coat[:, :, :3]  # Convert to RGB\n",
    "if model.shape[-1] == 4:\n",
    "    model = model[:, :, :3]  # Convert to RGB\n",
    "\n",
    "# Resize coat to match model dimensions\n",
    "coat = resize(coat, model.shape[:2], anti_aliasing=True, preserve_range=True).astype(np.uint8)\n",
    "\n",
    "# Create binary mask for the coat (avoid pure white pixels)\n",
    "mask = np.all(coat < [250, 250, 250], axis=-1)\n",
    "\n",
    "# Apply mask - Ensure dimensions match\n",
    "model_with_coat = model.copy()\n",
    "model_with_coat[mask] = coat[mask]\n",
    "\n",
    "# Display images\n",
    "fig, axes = plt.subplots(1, 3, figsize=(15, 5))\n",
    "axes[0].imshow(model)\n",
    "axes[0].set_title(\"Model\")\n",
    "axes[0].axis(\"off\")\n",
    "\n",
    "axes[1].imshow(coat)\n",
    "axes[1].set_title(\"Coat (Resized)\")\n",
    "axes[1].axis(\"off\")\n",
    "\n",
    "axes[2].imshow(model_with_coat)\n",
    "axes[2].set_title(\"Model Wearing Coat\")\n",
    "axes[2].axis(\"off\")\n",
    "\n",
    "plt.show()\n"
   ]
  },
  {
   "cell_type": "markdown",
   "metadata": {
    "id": "aTEmlIhY0w46"
   },
   "source": [
    "# Contrast Enhancement\n",
    "\n",
    "### **Exercise: Histogram Computation**\n",
    "\n",
    "*   Read the **'astronaut' image** from data module.\n",
    "*   Convert the image to grayscale.\n",
    "*   Compute the **histogram of the image.** *Hint: histogram function is available in skimage.exposure package*\n",
    "*   Plot the histogram using matplotlib plot.\n",
    "\n",
    "\n"
   ]
  },
  {
   "cell_type": "code",
   "execution_count": null,
   "metadata": {
    "id": "Pkh-HIjW2SBW"
   },
   "outputs": [],
   "source": [
    "# Read image and convert to grayscale\n",
    "astro = color.rgb2gray(data.astronaut())\n",
    "\n",
    "# Compute histogram\n",
    "hist, bins = exposure.histogram(astro)\n",
    "\n",
    "# Plot histogram\n",
    "plt.figure(figsize=(8, 4))\n",
    "plt.plot(bins, hist, color=\"black\")\n",
    "plt.title(\"Histogram of Astronaut Image\")\n",
    "plt.xlabel(\"Pixel Value\")\n",
    "plt.ylabel(\"Frequency\")\n",
    "plt.show()\n"
   ]
  },
  {
   "cell_type": "markdown",
   "metadata": {
    "id": "mIeB6eUYs-lR"
   },
   "source": [
    "*   Change the bin count to 8 and compute the histogram of the image and plot the computed histogram using matplotlib plot."
   ]
  },
  {
   "cell_type": "code",
   "execution_count": null,
   "metadata": {
    "id": "UXxj9_ZptB0_"
   },
   "outputs": [],
   "source": [
    "# Compute histogram with 8 bins\n",
    "hist_8, bins_8 = exposure.histogram(astro, nbins=8)\n",
    "\n",
    "# Plot histogram\n",
    "plt.figure(figsize=(8, 4))\n",
    "plt.bar(bins_8, hist_8, width=0.1, color=\"gray\")\n",
    "plt.title(\"Histogram with 8 Bins\")\n",
    "plt.xlabel(\"Pixel Value\")\n",
    "plt.ylabel(\"Frequency\")\n",
    "plt.show()\n",
    "\n"
   ]
  },
  {
   "cell_type": "markdown",
   "metadata": {
    "id": "NyBcGEtEJXP_"
   },
   "source": [
    "\n",
    "\n",
    "*   What happens when you change the bin count? Does your inference change based on the bin count? If yes, then how do you define the correct bin count.\n",
    "*   What happens when the bin count is very low and what happens when it is very high?\n",
    "\n"
   ]
  },
  {
   "cell_type": "markdown",
   "metadata": {
    "id": "tw8L1ZKvKOvo"
   },
   "source": [
    "**Solution**\n",
    "\n",
    "*(Double-click or enter to edit)*\n",
    "\n",
    "..."
   ]
  },
  {
   "cell_type": "markdown",
   "metadata": {
    "id": "4ecOWgER2U_n"
   },
   "source": [
    "\n",
    "*   Compute histogram of the color image (without converting it to grayscale).\n",
    "*   Plot the total histogram and also histogram for each channel (show it in a single plot with differnt legends for each histogram).\n"
   ]
  },
  {
   "cell_type": "code",
   "execution_count": null,
   "metadata": {
    "id": "0R425Nve2Til"
   },
   "outputs": [],
   "source": [
    "# Compute histogram with 8 bins\n",
    "hist_8, bins_8 = exposure.histogram(astro, nbins=8)\n",
    "\n",
    "# Plot histogram\n",
    "plt.figure(figsize=(8, 4))\n",
    "plt.bar(bins_8, hist_8, width=0.1, color=\"gray\")\n",
    "plt.title(\"Histogram with 8 Bins\")\n",
    "plt.xlabel(\"Pixel Value\")\n",
    "plt.ylabel(\"Frequency\")\n",
    "plt.show()\n",
    "\n"
   ]
  },
  {
   "cell_type": "markdown",
   "metadata": {
    "id": "vr9af6my4uKv"
   },
   "source": [
    "### **Exercise: Histogram Equalization**\n",
    "\n",
    "*   Read 'aquatermi_lowcontrast.jpg' image from the images folder.\n",
    "*   Compute the histogram of the image.\n",
    "*   Perform histogram equalization of the image to enhance the contrast. *Hint: Use equalize_hist function available in skimage.exposure*\n",
    "*   Also compute histogram of the equalized image.\n",
    "*   Use 2 x 2 subplot to show the original image and the enhanced image along with the corresponding histograms.\n",
    "\n"
   ]
  },
  {
   "cell_type": "code",
   "execution_count": null,
   "metadata": {
    "id": "0ROMuC8F6IYf"
   },
   "outputs": [],
   "source": [
    "# Read image and convert to grayscale\n",
    "image = io.imread(\"images/aquatermi_lowcontrast.jpg\")\n",
    "image_gray = color.rgb2gray(image)\n",
    "\n",
    "# Perform histogram equalization\n",
    "equalized = exposure.equalize_hist(image_gray)\n",
    "\n",
    "# Plot original and equalized histograms\n",
    "fig, axes = plt.subplots(2, 2, figsize=(12, 8))\n",
    "\n",
    "# Original Image\n",
    "axes[0, 0].imshow(image_gray, cmap=\"gray\")\n",
    "axes[0, 0].set_title(\"Original Image\")\n",
    "axes[0, 0].axis(\"off\")\n",
    "\n",
    "# Histogram of Original Image\n",
    "axes[0, 1].hist(image_gray.ravel(), bins=256, color=\"gray\")\n",
    "axes[0, 1].set_title(\"Histogram (Original)\")\n",
    "\n",
    "# Equalized Image\n",
    "axes[1, 0].imshow(equalized, cmap=\"gray\")\n",
    "axes[1, 0].set_title(\"Equalized Image\")\n",
    "axes[1, 0].axis(\"off\")\n",
    "\n",
    "# Histogram of Equalized Image\n",
    "axes[1, 1].hist(equalized.ravel(), bins=256, color=\"gray\")\n",
    "axes[1, 1].set_title(\"Histogram (Equalized)\")\n",
    "\n",
    "plt.show()\n"
   ]
  },
  {
   "cell_type": "markdown",
   "metadata": {
    "id": "IvDnkRKA8PXe"
   },
   "source": [
    "\n",
    "*   The above function in skimage.exposure uses cdf and interpolation technique to normalize the histogram. How is it different from linear contrast stretch?\n"
   ]
  },
  {
   "cell_type": "markdown",
   "metadata": {
    "id": "JOCa3PzJLhl0"
   },
   "source": [
    "**Solution**\n",
    "\n",
    "*(Double-click or enter to edit)*\n",
    "\n",
    "..."
   ]
  },
  {
   "cell_type": "markdown",
   "metadata": {
    "id": "boFCTwGV8kaz"
   },
   "source": [
    "### **Exercise: Linear Contrast Stretch**\n",
    "\n",
    "*   Write a function to compute the linear contrast stretch (Do not use an inbuilt function). \n",
    "*   Provide grayscale image array and bin count as parameters to the function and return the enhanced image array.\n",
    "*   Use a 2 x 2 plot to visualize the original image, histogram, enhanced image and the corresponding histogram.\n",
    "\n"
   ]
  },
  {
   "cell_type": "code",
   "execution_count": null,
   "metadata": {
    "id": "l6mlhI_s8lLv"
   },
   "outputs": [],
   "source": [
    "# Read image and convert to grayscale\n",
    "image = io.imread(\"images/aquatermi_lowcontrast.jpg\")\n",
    "image_gray = color.rgb2gray(image)\n",
    "\n",
    "# Perform histogram equalization\n",
    "equalized = exposure.equalize_hist(image_gray)\n",
    "\n",
    "# Plot original and equalized histograms\n",
    "fig, axes = plt.subplots(2, 2, figsize=(12, 8))\n",
    "\n",
    "# Original Image\n",
    "axes[0, 0].imshow(image_gray, cmap=\"gray\")\n",
    "axes[0, 0].set_title(\"Original Image\")\n",
    "axes[0, 0].axis(\"off\")\n",
    "\n",
    "# Histogram of Original Image\n",
    "axes[0, 1].hist(image_gray.ravel(), bins=256, color=\"gray\")\n",
    "axes[0, 1].set_title(\"Histogram (Original)\")\n",
    "\n",
    "# Equalized Image\n",
    "axes[1, 0].imshow(equalized, cmap=\"gray\")\n",
    "axes[1, 0].set_title(\"Equalized Image\")\n",
    "axes[1, 0].axis(\"off\")\n",
    "\n",
    "# Histogram of Equalized Image\n",
    "axes[1, 1].hist(equalized.ravel(), bins=256, color=\"gray\")\n",
    "axes[1, 1].set_title(\"Histogram (Equalized)\")\n",
    "\n",
    "plt.show()\n"
   ]
  },
  {
   "cell_type": "markdown",
   "metadata": {
    "id": "lfuWqX2BWyXm"
   },
   "source": [
    "# Filters\n",
    "\n",
    "### **Exercise: Mean Filter**\n",
    "\n",
    "*   Load the **coins** image from the data module.\n",
    "*   Define a disk structuring element (selem) of radius 20. *Hint: Structuring elements are defined in the skimage.morphology module*\n",
    "*   Use mean filter using the created selem. *Hint: The mean filter is available in skimage.filters.rank module*\n",
    "*   Increase the radius of the selem by 10 and apply the mean filter.\n",
    "*   Reduce the radius of the selem by 10 and apply the mean filter.\n",
    "*   Visualize all the smoothened images along with the original image.\n",
    "\n",
    "\n"
   ]
  },
  {
   "cell_type": "code",
   "execution_count": null,
   "metadata": {
    "id": "qp7_zxDjL7vS"
   },
   "outputs": [],
   "source": [
    "from skimage.filters.rank import mean\n",
    "\n",
    "# Load coins image\n",
    "coins = data.coins()\n",
    "\n",
    "# Define structuring element\n",
    "selem = disk(20)\n",
    "\n",
    "# Apply mean filter\n",
    "filtered = mean(coins, selem)\n",
    "\n",
    "# Display images\n",
    "fig, axes = plt.subplots(1, 2, figsize=(10, 5))\n",
    "axes[0].imshow(coins, cmap=\"gray\")\n",
    "axes[0].set_title(\"Original Image\")\n",
    "axes[0].axis(\"off\")\n",
    "\n",
    "axes[1].imshow(filtered, cmap=\"gray\")\n",
    "axes[1].set_title(\"Mean Filtered Image\")\n",
    "axes[1].axis(\"off\")\n",
    "\n",
    "plt.show()\n"
   ]
  },
  {
   "cell_type": "markdown",
   "metadata": {
    "id": "7DIOQCcsvEqG"
   },
   "source": [
    "*   Use different selem (square, rectangle, star, diamond) to view the behaviour of the mean filter (It is not necessary to repeat with different sizes; it is sufficient to show the one with optimal parameter).\n",
    "*   Create a 2 x n subplot to show the selem in the first row and the corresponding smoothened image in the second row."
   ]
  },
  {
   "cell_type": "code",
   "execution_count": null,
   "metadata": {
    "id": "3GbQXmYvvXUO"
   },
   "outputs": [],
   "source": [
    "from skimage.filters.rank import mean\n",
    "\n",
    "# Load coins image\n",
    "coins = data.coins()\n",
    "\n",
    "# Define structuring element\n",
    "selem = disk(20)\n",
    "\n",
    "# Apply mean filter\n",
    "filtered = mean(coins, selem)\n",
    "\n",
    "# Display images\n",
    "fig, axes = plt.subplots(1, 2, figsize=(10, 5))\n",
    "axes[0].imshow(coins, cmap=\"gray\")\n",
    "axes[0].set_title(\"Original Image\")\n",
    "axes[0].axis(\"off\")\n",
    "\n",
    "axes[1].imshow(filtered, cmap=\"gray\")\n",
    "axes[1].set_title(\"Mean Filtered Image\")\n",
    "axes[1].axis(\"off\")\n",
    "\n",
    "plt.show()\n"
   ]
  },
  {
   "cell_type": "markdown",
   "metadata": {
    "id": "jV7OHQwKZ9GU"
   },
   "source": [
    "*   How does changing the radius of disk affect the smoothing functionality?"
   ]
  },
  {
   "cell_type": "markdown",
   "metadata": {
    "id": "QG91LBzwMBUR"
   },
   "source": [
    "**Solution**\n",
    "\n",
    "*(Double-click or enter to edit)*\n",
    "\n",
    "..."
   ]
  },
  {
   "cell_type": "markdown",
   "metadata": {
    "id": "mPJFLYMkMBqs"
   },
   "source": [
    "\n",
    "*   What is the observed behaviour with difference in the structuring element?\n",
    "\n"
   ]
  },
  {
   "cell_type": "markdown",
   "metadata": {
    "id": "hcJkpvnjMFY5"
   },
   "source": [
    "**Solution**\n",
    "\n",
    "*(Double-click or enter to edit)*\n",
    "\n",
    "..."
   ]
  },
  {
   "cell_type": "markdown",
   "metadata": {
    "id": "v5hySxTKM4AB"
   },
   "source": [
    "\n",
    "\n",
    "*   What is the difference between mean filter and gaussian filter?\n",
    "*   Where do you use mean filters and where do you use gaussian filters?\n",
    "\n"
   ]
  },
  {
   "cell_type": "markdown",
   "metadata": {
    "id": "w0foSx_GNDB5"
   },
   "source": [
    "**Solution**\n",
    "\n",
    "*(Double-click or enter to edit)*\n",
    "\n",
    "..."
   ]
  }
 ],
 "metadata": {
  "colab": {
   "authorship_tag": "ABX9TyPs+7OmQKl06bCVLggAj4BU",
   "collapsed_sections": [],
   "provenance": []
  },
  "kernelspec": {
   "display_name": "base",
   "language": "python",
   "name": "python3"
  },
  "language_info": {
   "codemirror_mode": {
    "name": "ipython",
    "version": 3
   },
   "file_extension": ".py",
   "mimetype": "text/x-python",
   "name": "python",
   "nbconvert_exporter": "python",
   "pygments_lexer": "ipython3",
   "version": "3.12.7"
  }
 },
 "nbformat": 4,
 "nbformat_minor": 1
}
